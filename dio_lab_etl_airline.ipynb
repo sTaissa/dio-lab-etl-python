{
  "nbformat": 4,
  "nbformat_minor": 0,
  "metadata": {
    "colab": {
      "provenance": []
    },
    "kernelspec": {
      "name": "python3",
      "display_name": "Python 3"
    },
    "language_info": {
      "name": "python"
    }
  },
  "cells": [
    {
      "cell_type": "markdown",
      "source": [
        "# Explorando IA Generativa em um Pipeline de ETL com Python"
      ],
      "metadata": {
        "id": "H1SKft-MKwXO"
      }
    },
    {
      "cell_type": "code",
      "execution_count": 27,
      "metadata": {
        "colab": {
          "base_uri": "https://localhost:8080/"
        },
        "id": "McqgprWb-07H",
        "outputId": "8fd26577-1807-4e2b-860f-1239b208f471"
      },
      "outputs": [
        {
          "output_type": "stream",
          "name": "stdout",
          "text": [
            "   passenger_id first_name   last_name  age  nationality  departure  \\\n",
            "0             1    Trenton      Arkley   53       France     Brazil   \n",
            "1             2      Daron  Bottinelli   34    Venezuela      China   \n",
            "2             3       Nike    Lindberg   64  Afghanistan  Indonesia   \n",
            "\n",
            "  destination flight_number departure_date seat_number  \n",
            "0    Portugal         DL456     03/12/2022          B2  \n",
            "1       China         DL456     28/10/2022          B2  \n",
            "2       China         DL456     30/07/2022          B2  \n"
          ]
        }
      ],
      "source": [
        "import pandas as pd\n",
        "\n",
        "#lê o arquivo e cria o dataset pandas\n",
        "df = pd.read_csv('AirlineDataset.csv')\n",
        "df = df.head(3) #limitação do plano a 3 requisições por minuto\n",
        "print(df)"
      ]
    },
    {
      "cell_type": "code",
      "source": [
        "!pip install openai"
      ],
      "metadata": {
        "id": "c0xJRHT50JA1"
      },
      "execution_count": null,
      "outputs": []
    },
    {
      "cell_type": "code",
      "source": [
        "import openai\n",
        "\n",
        "openai.api_key = openai_api_key\n",
        "\n",
        "#gera a mensagem usando a api do chat GPT\n",
        "def generate_ai_message(user):\n",
        "  completion = openai.ChatCompletion.create(\n",
        "    model=\"gpt-3.5-turbo-16k\",\n",
        "    messages=[\n",
        "      {\n",
        "          \"role\": \"system\",\n",
        "          \"content\": \"Você é um especialista em markting de uma linha de voo\"\n",
        "      },\n",
        "      {\n",
        "          \"role\": \"user\",\n",
        "          \"content\": f\"Crie uma recomendação de viagem para {user['first_name']} com base no seu último destino {user['destination']}  (máximo de 100 caracteres)\"\n",
        "      }\n",
        "    ]\n",
        "  )\n",
        "  return completion.choices[0].message.content.strip('\\\"')\n",
        "\n",
        "#cria a nova coluna e aplica a função de geração de mensagens a cada linha do df\n",
        "df[\"recomendation\"] = df.apply(generate_ai_message, axis=1)\n",
        "\n",
        "#exibe a mensagem de recoemndação completa no print\n",
        "pd.set_option('display.max_colwidth', None)\n",
        "print(df)"
      ],
      "metadata": {
        "colab": {
          "base_uri": "https://localhost:8080/"
        },
        "id": "6hh-_3750vgH",
        "outputId": "e9aab14e-05cf-4604-b178-b677558bd57e"
      },
      "execution_count": 29,
      "outputs": [
        {
          "output_type": "stream",
          "name": "stdout",
          "text": [
            "   passenger_id first_name   last_name  age  nationality  departure  \\\n",
            "0             1    Trenton      Arkley   53       France     Brazil   \n",
            "1             2      Daron  Bottinelli   34    Venezuela      China   \n",
            "2             3       Nike    Lindberg   64  Afghanistan  Indonesia   \n",
            "\n",
            "  destination flight_number departure_date seat_number  \\\n",
            "0    Portugal         DL456     03/12/2022          B2   \n",
            "1       China         DL456     28/10/2022          B2   \n",
            "2       China         DL456     30/07/2022          B2   \n",
            "\n",
            "                                                                                                       recomendation  \n",
            "0  Trenton, explore a beleza histórica de Portugal: Castelos, vinícolas e paisagens deslumbrantes aguardam por você!  \n",
            "1                  Descubra a grandeza e a beleza da China com nossos voos para Daron! #ExploreChina #ViagemIncrível  \n",
            "2                  Explore a fascinante cultura chinesa e mergulhe no cenário de moda dinâmica de Xangai com a Nike!  \n"
          ]
        }
      ]
    },
    {
      "cell_type": "code",
      "source": [
        "#cria novo arquivo csv com dados atualizados\n",
        "df.to_csv(\"AirlineDatasetUpdated.csv\", index=False)"
      ],
      "metadata": {
        "id": "0eHOKIdcR8TY"
      },
      "execution_count": 30,
      "outputs": []
    }
  ]
}